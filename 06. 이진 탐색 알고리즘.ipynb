{
 "cells": [
  {
   "cell_type": "markdown",
   "id": "c83ac5bf",
   "metadata": {},
   "source": [
    "## 이진 탐색 알고리즘\n",
    "\n",
    "* 순차 탐색: 리스트 안에 있는 특정한 테이터를 찾기 위해 앞에서부터 데이터를 하나씩 확인하는 방법\n",
    "* 이진 탐색: 정렬되어 있는 리스트에서 탐색 범위를 절반씩 좁혀가며 데이터를 탐색하는 방법\n",
    "    * 이진 탐색은 시작점, 끝점, 중간점을 이용하여 탐색 범위를 설정합니다.\n",
    "    \n",
    "#### 이진 탐색의 시간 복잡도\n",
    "\n",
    "* 단계마다 탐색 범위를 2로 나눈것과 동일하므로 연산 횟수는 $log_2N$에 비례한다.\n",
    "* 예를 들어 초기 데이터 개수가 32개일 때, 이상적으로 1단계를 거치면 16개 가량의 데이터만 남는다.\n",
    "* 다시 말해 이진 탐색은 탐색 범위를 절반씩 줄이며, 시간복잡도는 $O(logN)$을 보장한다."
   ]
  },
  {
   "cell_type": "code",
   "execution_count": 1,
   "id": "88bc333d",
   "metadata": {
    "ExecuteTime": {
     "end_time": "2022-02-02T09:35:19.877775Z",
     "start_time": "2022-02-02T09:35:10.654707Z"
    }
   },
   "outputs": [
    {
     "name": "stdout",
     "output_type": "stream",
     "text": [
      "10 7\n",
      "1 3 5 7 9 11 13 15 17 19\n",
      "4\n"
     ]
    }
   ],
   "source": [
    "# 이진 탐색 소스코드 구현(재귀 함수)\n",
    "def binary_search(array, target, start, end):\n",
    "    if start > end:\n",
    "        return None\n",
    "    mid = (start + end) // 2\n",
    "    # 찾은 경우 중간점 인덱스 반환\n",
    "    if array[mid] == target:\n",
    "        return mid\n",
    "    # 중간점의 값보다 찾고자 하는 값이 작은 경우 왼쪽 확인\n",
    "    elif array[mid] > target:\n",
    "        return binary_search(array, target, start, mid - 1)\n",
    "    # 중간점의 값보다 찾고자 하는 값이 큰 경우 오른쪽 확인\n",
    "    else:\n",
    "        return binary_search(array, target, mid + 1, end)\n",
    "    \n",
    "# n(원소의 개수)과 target(찾고자 하는 값)을 입력 받기\n",
    "n, target = map(int, input().split())\n",
    "# 전체 원소 입력 바다기\n",
    "array = list(map(int, input().split()))\n",
    "\n",
    "# 이진 탐색 수행 결과 출력\n",
    "result = binary_search(array, target, 0, n-1)\n",
    "if result == None:\n",
    "    print(\"원소가 존재하지 않습니다.\")\n",
    "else:\n",
    "    print(result + 1)\n",
    "    \n",
    "# n = 10, target = 7\n",
    "# array = [1, 3, 5, 7, 9, 11, 13, 15, 17, 19]"
   ]
  },
  {
   "cell_type": "markdown",
   "id": "48d38f1b",
   "metadata": {},
   "source": [
    "## 파이썬 이진 탐색 라이브러리\n",
    "\n",
    "* bisect_left(a, x): 정렬된 순서를 유지하면서 배열 a에 x를 삽입할 가장 왼쪽 인덱스를 반환\n",
    "* visect_right(a, x): 정렬된 순서를 유지하면서 배열 a에 x를 삽입할 가장 오른쪽 인덱스를 반환"
   ]
  },
  {
   "cell_type": "code",
   "execution_count": 2,
   "id": "3f5472b4",
   "metadata": {
    "ExecuteTime": {
     "end_time": "2022-02-03T12:39:57.237258Z",
     "start_time": "2022-02-03T12:39:57.208856Z"
    }
   },
   "outputs": [
    {
     "name": "stdout",
     "output_type": "stream",
     "text": [
      "2\n",
      "4\n"
     ]
    }
   ],
   "source": [
    "from bisect import bisect_left, bisect_right\n",
    "\n",
    "a = [1, 2, 4, 4, 8]\n",
    "x = 4\n",
    "\n",
    "print(bisect_left(a, x))\n",
    "print(bisect_right(a, x))"
   ]
  },
  {
   "cell_type": "markdown",
   "id": "a7cb505f",
   "metadata": {},
   "source": [
    "#### 값이 특정 범위에 속하는 데이터 개수 구하기"
   ]
  },
  {
   "cell_type": "code",
   "execution_count": 5,
   "id": "52b61672",
   "metadata": {
    "ExecuteTime": {
     "end_time": "2022-02-03T13:01:07.493017Z",
     "start_time": "2022-02-03T13:01:07.481582Z"
    }
   },
   "outputs": [
    {
     "name": "stdout",
     "output_type": "stream",
     "text": [
      "2\n",
      "6\n"
     ]
    }
   ],
   "source": [
    "from bisect import bisect_left, bisect_right\n",
    "\n",
    "# 값이 [left_value, right_value]인 데이터의 개수를 반환하는 함수\n",
    "def count_by_range(a, left_value, right_value):\n",
    "    right_index = bisect_right(a, right_value)\n",
    "    left_index = bisect_left(a, left_value)\n",
    "    return right_index - left_index\n",
    "\n",
    "# 배열 선언\n",
    "a = [1, 2, 3, 3, 3, 3, 4, 4, 8, 9]\n",
    "\n",
    "# 값이 4인 데이터 개수 출력\n",
    "print(count_by_range(a, 4, 4))\n",
    "\n",
    "# 값이 [-1, 3] 범위에 있는 데이터 개수 출력\n",
    "print(count_by_range(a, -1, 3))"
   ]
  },
  {
   "cell_type": "markdown",
   "id": "29ce8e5b",
   "metadata": {},
   "source": [
    "## 파라메트릭 서치(Parametric Search)\n",
    "\n",
    "* 파라메트릭 서치란 최적화 문제를 결정문제 ('예' 혹은'아니오') 로 바꾸어 해결하는 기법이다.\n",
    "    * 예시: 특정한 조건을 만족하는 가장 알맞은 값을 빠르게 찾는 최적화 문제\n",
    "* 일반적으로 코딩 테스트에서 파라메트릭 서치 문제는 이진 탐색을 이용하여 해결할 수 있다."
   ]
  },
  {
   "cell_type": "markdown",
   "id": "98ea7b68",
   "metadata": {},
   "source": [
    "## <문제> 떡볶이 떡 만들기\n",
    "\n",
    "#### 오늘 진호는 여행가신 부모님을 대신해서 떡집 일을 하기로 했습니다. 오늘은 떡볶이 떡을 만드는 날입니다. 진호네 떡볶이 떡은 재밌게도 떡복이 떡의 길이가 일정하지 않습니다. 대신에 한 봉지 안에 들어가는 떡의 총 길이는 절단기로 잘라서 맞춰줍니다.\n",
    "#### 절단기에 높이(H)를 지정하면 줄지어진 떡을 한 번에 절단합니다. 높이가 H보다 긴 떡은 H위의 부분이 잘릴 것이고, 낮은 떡은 잘리지 않습니다.\n",
    "#### 예를 들어 높이가 19, 14, 10, 17cm인 떡이 나란히 있고 절단기 높이를 15cm로 지정하면 자른 뒤 떡의 높이는 15, 14, 10, 15cm가 될 것입니다. 잘린 떡의 길이는 차례대로 4, 0, 0, 2cm입니다. 손님은 6cm만큼의 길이를 가져갑니다.\n",
    "#### 손님이 왔을 때 요청한 총 길이가 M일때 적어도 M만큼의 떡을 얻기 위해 절단기에 설정할 수 있는 높이의 최댓값을 구하는 프로그램을 작성하세요."
   ]
  },
  {
   "cell_type": "markdown",
   "id": "07358685",
   "metadata": {},
   "source": [
    "### 문제 해결 아이디어\n",
    "\n",
    "* 적절한 높이를 찾을 때까지 이진 탐색을 수행하여 높이 H를 반복해서 조정하면 된다.\n",
    "* 현재 이 높이로 자르면 조건을 만족할 수 있는가? 를 확인한 뒤에 조건의 만족 여부에 따라서 탐색 범위를 좁혀서 해결할 수 있다.\n",
    "* 절단기의 높이는 0에서 10까지의 정수중 하나이다.\n",
    "    * 이렇게 큰 탐색 범위를 보면 가장 먼저 이진탐색을 떠올려야 한다.\n",
    "    "
   ]
  },
  {
   "cell_type": "code",
   "execution_count": 8,
   "id": "fcfea2f4",
   "metadata": {
    "ExecuteTime": {
     "end_time": "2022-02-03T13:48:44.332656Z",
     "start_time": "2022-02-03T13:48:34.601529Z"
    }
   },
   "outputs": [
    {
     "name": "stdout",
     "output_type": "stream",
     "text": [
      "4 6\n",
      "19 14 10 17\n",
      "15\n"
     ]
    }
   ],
   "source": [
    "# 떡의 개수(N)와 요청한 떡의 길이(M)을 입력\n",
    "n, m = list(map(int, input().split()))\n",
    "# 각 떡의 개별 높이 정보를 입력\n",
    "array = list(map(int, input().split()))\n",
    "\n",
    "# 이진 탐색을 위한 시작점과 끝점 설정 \n",
    "start = 0\n",
    "end = max(array)\n",
    "\n",
    "# 이진 탐색 수행(반복)\n",
    "result = 0\n",
    "while(start<=end):\n",
    "    total = 0\n",
    "    mid = (start+end)//2\n",
    "    for x in array:\n",
    "        # 잘랐을 때의 떡의 양 계산\n",
    "        if x > mid:\n",
    "            total += x - mid\n",
    "    # 떡의 양이 부족한 경우 더 많이 자르기(왼쪽 부분 탐색)\n",
    "    if total < m:\n",
    "        end = mid - 1\n",
    "    # 떡의 양이 충분한 경우 덜 자르기(오른쪽 부분 탐색)\n",
    "    else:\n",
    "        result = mid # 최대한 덜 잘랐을 때가 정답이므로 여기에서 result 기록\n",
    "        start = mid + 1\n",
    "        \n",
    "print(result)"
   ]
  },
  {
   "cell_type": "markdown",
   "id": "0a787e4a",
   "metadata": {},
   "source": [
    "## <문제> 정렬된 배열에서 특정 수의 개수 구하기\n",
    "\n",
    "#### N개의 원소를 포함하고 있는 수열이 오름차순으로 정렬되어 있습니다. 이때 이 수열에서 x가 등장하는 횟수를 계산하세요.<br>예를 들어 수열 {1, 1, 2, 2, 2, 2, 3}이 있을 때 x = 2라면, 현재 수열에서 값이 2인 원소가 4개이므로 4를 출력합니다.\n",
    "#### 단, 이 문제는 시간복잡도 $O(logN)$으로 알고리즘을 설계하지 않으면 시간초과 판정을 받습니다.\n"
   ]
  },
  {
   "cell_type": "markdown",
   "id": "5f230450",
   "metadata": {},
   "source": [
    "### 문제 해결 아이디어\n",
    "* 시간복잡도 $O(logN)$으로 동작하는 알고리즘을 요구하고 있다.\n",
    "    * 일반적인 선형 탐색으로는 시간초과 판정을 받는다.\n",
    "    * 하지만 데이터가 정렬되어 있기 때문에 이진 탐색을 수행할 수 있다.\n",
    "* 특정 값이 등장하는 첫 번째 위치와 마지막 위치를 찾아 위치 차이를 계산해 문제를 해결할 수 있다."
   ]
  },
  {
   "cell_type": "code",
   "execution_count": 10,
   "id": "658d734b",
   "metadata": {
    "ExecuteTime": {
     "end_time": "2022-02-03T14:02:41.301080Z",
     "start_time": "2022-02-03T14:02:36.910367Z"
    }
   },
   "outputs": [
    {
     "name": "stdout",
     "output_type": "stream",
     "text": [
      "7 2\n",
      "1 1 2 2 2 2 3\n",
      "4\n"
     ]
    }
   ],
   "source": [
    "from bisect import bisect_left, bisect_right\n",
    "\n",
    "# 값이 [left_value, right_value]인 데이터의 개수를 반환하는 함수\n",
    "def count_by_range(a, left_value, right_value):\n",
    "    right_index = bisect_right(a, right_value)\n",
    "    left_index = bisect_left(a, left_value)\n",
    "    return right_index - left_index\n",
    "\n",
    "n, x = map(int, input().split())\n",
    "array = list(map(int, input().split()))\n",
    "\n",
    "# 값이 [x, x] 범위에 잇는 데이터의 개수 계산\n",
    "count = count_by_range(array, x, x)\n",
    "# 값이 x인 원소가 존재하지 않는다면\n",
    "if count == 0:\n",
    "    print(-1)\n",
    "# 값이 x인 원소가 존재한다면\n",
    "else:\n",
    "    print(count)"
   ]
  }
 ],
 "metadata": {
  "kernelspec": {
   "display_name": "Python 3.9.6 64-bit",
   "language": "python",
   "name": "python396jvsc74a57bd0aee8b7b246df8f9039afb4144a1f6fd8d2ca17a180786b69acc140d282b71a49"
  },
  "language_info": {
   "codemirror_mode": {
    "name": "ipython",
    "version": 3
   },
   "file_extension": ".py",
   "mimetype": "text/x-python",
   "name": "python",
   "nbconvert_exporter": "python",
   "pygments_lexer": "ipython3",
   "version": "3.9.6"
  }
 },
 "nbformat": 4,
 "nbformat_minor": 5
}
