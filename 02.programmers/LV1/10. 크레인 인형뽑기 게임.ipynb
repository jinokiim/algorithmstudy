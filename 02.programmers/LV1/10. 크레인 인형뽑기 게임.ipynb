{
 "cells": [
  {
   "cell_type": "markdown",
   "id": "e1cb40fe",
   "metadata": {},
   "source": [
    "문제 링크\n",
    "https://programmers.co.kr/learn/courses/30/lessons/64061"
   ]
  },
  {
   "attachments": {},
   "cell_type": "markdown",
   "id": "3205fd5b",
   "metadata": {
    "ExecuteTime": {
     "end_time": "2022-03-05T07:21:53.710095Z",
     "start_time": "2022-03-05T07:21:53.676861Z"
    }
   },
   "source": [
    "문제 설명\n",
    "\n",
    "게임개발자인 \"죠르디\"는 크레인 인형뽑기 기계를 모바일 게임으로 만들려고 합니다.\n",
    "\"죠르디\"는 게임의 재미를 높이기 위해 화면 구성과 규칙을 다음과 같이 게임 로직에 반영하려고 합니다.\n",
    "<img src=\"../../../../Screenshot/3.png\" width=\"300\"/>\n"
   ]
  },
  {
   "cell_type": "markdown",
   "id": "e63626b6",
   "metadata": {},
   "source": [
    "\n",
    "게임 화면은 \"1 x 1\" 크기의 칸들로 이루어진 \"N x N\" 크기의 정사각 격자이며 위쪽에는 크레인이 있고 오른쪽에는 바구니가 있습니다.\n",
    "각 격자 칸에는 다양한 인형이 들어 있으며 인형이 없는 칸은 빈칸입니다. 모든 인형은 \"1 x 1\" 크기의 격자 한 칸을 차지하며 격자의 가장 아래 칸부터 차곡차곡 쌓여 있습니다. 게임 사용자는 크레인을 좌우로 움직여서 멈춘 위치에서 가장 위에 있는 인형을 집어 올릴 수 있습니다. 집어 올린 인형은 바구니에 쌓이게 되는 데, 이때 바구니의 가장 아래 칸부터 인형이 순서대로 쌓이게 됩니다. 다음 그림은 [1번, 5번, 3번] 위치에서 순서대로 인형을 집어 올려 바구니에 담은 모습입니다.\n",
    "\n",
    "<img src=\"../../../../Screenshot/2.png\" width=\"300\"/>"
   ]
  },
  {
   "cell_type": "markdown",
   "id": "c76b7a99",
   "metadata": {},
   "source": [
    "만약 같은 모양의 인형 두 개가 바구니에 연속해서 쌓이게 되면 두 인형은 터뜨려지면서 바구니에서 사라지게 됩니다. 위 상태에서 이어서 [5번] 위치에서 인형을 집어 바구니에 쌓으면 같은 모양 인형 두 개가 없어집니다.\n",
    "<img src=\"../../../../Screenshot/1.png\" width=\"300\"/>"
   ]
  },
  {
   "cell_type": "markdown",
   "id": "ff6b3fa7",
   "metadata": {},
   "source": [
    "크레인 작동 시 인형이 집어지지 않는 경우는 없으나 만약 인형이 없는 곳에서 크레인을 작동시키는 경우에는 아무런 일도 일어나지 않습니다. 또한 바구니는 모든 인형이 들어갈 수 있을 만큼 충분히 크다고 가정합니다. (그림에서는 화면표시 제약으로 5칸만으로 표현하였음)\n",
    "\n",
    "게임 화면의 격자의 상태가 담긴 2차원 배열 board와 인형을 집기 위해 크레인을 작동시킨 위치가 담긴 배열 moves가 매개변수로 주어질 때, 크레인을 모두 작동시킨 후 터트려져 사라진 인형의 개수를 return 하도록 solution 함수를 완성해주세요.\n"
   ]
  },
  {
   "cell_type": "markdown",
   "id": "d487a2b4",
   "metadata": {},
   "source": [
    "[제한사항]\n",
    "* board 배열은 2차원 배열로 크기는 \"5 x 5\" 이상 \"30 x 30\" 이하입니다.\n",
    "* board의 각 칸에는 0 이상 100 이하인 정수가 담겨있습니다.\n",
    "* 0은 빈 칸을 나타냅니다.\n",
    "* 1 ~ 100의 각 숫자는 각기 다른 인형의 모양을 의미하며 같은 숫자는 같은 모양의 인형을 나타냅니다.\n",
    "* moves 배열의 크기는 1 이상 1,000 이하입니다.\n",
    "* moves 배열 각 원소들의 값은 1 이상이며 board 배열의 가로 크기 이하인 자연수입니다.\n"
   ]
  },
  {
   "cell_type": "markdown",
   "id": "072a8c9f",
   "metadata": {},
   "source": [
    "입출력 예  \n",
    "\n",
    "|                            board                             |       moves       | result |  \n",
    "| :----------------------------------------------------------: | :---------------: | :----: |  \n",
    "| [[0,0,0,0,0],[0,0,1,0,3],[0,2,5,0,1],[4,2,4,4,2],[3,5,1,3,1]] | [1,5,3,5,1,2,1,4] |   4    |  \n",
    "\n",
    "\n",
    "입출력 예에 대한 설명\n",
    "입출력 예 #1\n",
    "\n",
    "인형의 처음 상태는 문제에 주어진 예시와 같습니다. 크레인이 [1, 5, 3, 5, 1, 2, 1, 4] 번 위치에서 차례대로 인형을 집어서 바구니에 옮겨 담은 후, \n",
    "상태는 아래 그림과 같으며 바구니에 담는 과정에서 터트려져 사라진 인형은 4개 입니다.\n"
   ]
  },
  {
   "cell_type": "markdown",
   "id": "44d62d15",
   "metadata": {},
   "source": [
    "[0, 0, 0, 0, 0]\n",
    "[0, 0, 0, 0, 0]\n",
    "[0, 0, 5, 0, 0]\n",
    "[0, 2, 4, 4, 2]\n",
    "[0, 5, 1, 3, 1]\n",
    "\n",
    "moves = [,,,,,,1,4]\n",
    "[4 3 1 1 3 2 4]\n"
   ]
  },
  {
   "cell_type": "code",
   "execution_count": 43,
   "id": "f849d8e2",
   "metadata": {
    "ExecuteTime": {
     "end_time": "2022-03-05T08:10:57.893273Z",
     "start_time": "2022-03-05T08:10:57.870635Z"
    }
   },
   "outputs": [
    {
     "name": "stdout",
     "output_type": "stream",
     "text": [
      "[-1, -1, 4, 3, 1, 1, 3, 2, 4]\n",
      "4\n"
     ]
    }
   ],
   "source": [
    "board = [[0,0,0,0,0],[0,0,1,0,3],[0,2,5,0,1],[4,2,4,4,2],[3,5,1,3,1]]\n",
    "moves = [1,5,3,5,1,2,1,4]\n",
    "bucket = [-1, -1]\n",
    "answer = 0\n",
    "\n",
    "for move in moves:  # 1 5 3 5 1 2 1 4\n",
    "    for i in range(len(board)): # 0 1 2 3 4\n",
    "        if board[i][move-1] == 0:\n",
    "            pass\n",
    "        else:\n",
    "            bucket.append(board[i][move-1])\n",
    "            board[i][move-1] = 0\n",
    "            if bucket[-1] == bucket[-2]:\n",
    "#                 del bucket[-2:]\n",
    "                answer += 2\n",
    "            break\n",
    "            \n",
    "print(bucket)\n",
    "print(count)"
   ]
  },
  {
   "cell_type": "code",
   "execution_count": 11,
   "id": "52397ed2",
   "metadata": {
    "ExecuteTime": {
     "end_time": "2022-03-05T07:45:49.023233Z",
     "start_time": "2022-03-05T07:45:49.005488Z"
    }
   },
   "outputs": [
    {
     "name": "stdout",
     "output_type": "stream",
     "text": [
      "8\n",
      "5\n"
     ]
    }
   ],
   "source": [
    "board = [[0,0,0,0,0],[0,0,1,0,3],[0,2,5,0,1],[4,2,4,4,2],[3,5,1,3,1]]\n",
    "moves = [1,5,3,5,1,2,1,4]\n",
    "print(len(moves))\n",
    "print(len(board))"
   ]
  },
  {
   "cell_type": "code",
   "execution_count": 39,
   "id": "9e801881",
   "metadata": {
    "ExecuteTime": {
     "end_time": "2022-03-05T08:09:43.044645Z",
     "start_time": "2022-03-05T08:09:43.039773Z"
    }
   },
   "outputs": [
    {
     "name": "stdout",
     "output_type": "stream",
     "text": [
      "-1\n",
      "-1\n"
     ]
    }
   ],
   "source": [
    "bucket = [-1, -1]\n",
    "\n",
    "print(bucket[-1])\n",
    "print(bucket[-2])"
   ]
  },
  {
   "cell_type": "code",
   "execution_count": 47,
   "id": "903cf582",
   "metadata": {
    "ExecuteTime": {
     "end_time": "2022-03-05T08:12:06.299362Z",
     "start_time": "2022-03-05T08:12:06.282191Z"
    }
   },
   "outputs": [
    {
     "data": {
      "text/plain": [
       "4"
      ]
     },
     "execution_count": 47,
     "metadata": {},
     "output_type": "execute_result"
    }
   ],
   "source": [
    "def solution(board, moves):\n",
    "    answer = 0\n",
    "    bucket = [-1, -1]\n",
    "    \n",
    "    # 옮기는 만큼 반복\n",
    "    for move in moves:  # 1 5 3 5 1 2 1 4\n",
    "        # board의 마지막까지 탐색해야한다.(0일경우)\n",
    "        for i in range(len(board)): # 0 1 2 3 4\n",
    "            # 0일경우\n",
    "            if board[i][move-1] == 0:\n",
    "                pass\n",
    "            # 0이 아니면\n",
    "            else:\n",
    "                # bucket에 추가하고\n",
    "                bucket.append(board[i][move-1])\n",
    "                # 추가한 자리는 0으로 교체\n",
    "                board[i][move-1] = 0\n",
    "                # \n",
    "                if bucket[-1] == bucket[-2]:\n",
    "                    del bucket[-2:]\n",
    "                    answer += 2\n",
    "                break\n",
    "    return answer\n",
    "\n",
    "solution([[0,0,0,0,0],[0,0,1,0,3],[0,2,5,0,1],[4,2,4,4,2],[3,5,1,3,1]], [1,5,3,5,1,2,1,4])"
   ]
  },
  {
   "cell_type": "code",
   "execution_count": null,
   "id": "4f0987c4",
   "metadata": {},
   "outputs": [],
   "source": []
  }
 ],
 "metadata": {
  "kernelspec": {
   "display_name": "Python 3 (ipykernel)",
   "language": "python",
   "name": "python3"
  },
  "language_info": {
   "codemirror_mode": {
    "name": "ipython",
    "version": 3
   },
   "file_extension": ".py",
   "mimetype": "text/x-python",
   "name": "python",
   "nbconvert_exporter": "python",
   "pygments_lexer": "ipython3",
   "version": "3.9.6"
  }
 },
 "nbformat": 4,
 "nbformat_minor": 5
}
