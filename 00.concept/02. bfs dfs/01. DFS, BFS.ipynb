{
 "cells": [
  {
   "cell_type": "markdown",
   "id": "a8599be0",
   "metadata": {},
   "source": [
    "## 그래프 탐색 알고리즘: DFS / BFS\n",
    "\n",
    "* 탐색(search)이란 많은 양의 데이터 중에서 원하는 데이터를 찾는 과정을 말한다.\n",
    "* 대표적인 그래프 탐색 알고리즘으로는 DFS와 BFS가 있다.\n",
    "* DFS / BFS는 코딩 테스트에서 매우 자주 등장하는 유형이므로 반드시 숙지해야 한다.\n",
    "\n",
    "## DFS (Depth-First Search)\n",
    "\n",
    "* DFS는 깊이우선탐색 이라고도 부르며 그래프에서 깊은 부분을 우선적으로 탐색하는 알고리즘이다.\n",
    "* DFS는 스택 자료구조(혹은 재귀 함수)를 이용하며, 구체적인 동작과정은 다음과 같다.\n",
    "    1. 탐색 시작 노드를 스택에 삽입하고 방문처리\n",
    "    2. 스택의 최상단 노드에 방문하지 않은 인접한 노드가 하나라도 있으면 그 노드를 스택에 넣고 방문처리. 방문하지 않은 인접 노드가 없으면 스택에서 최상단 노드를 꺼낸다.\n",
    "    3. 더 이상 2번의 과정을 수행할 수 없을때까지 반복한다.\n",
    "    \n"
   ]
  },
  {
   "cell_type": "code",
   "execution_count": 1,
   "id": "3983930d",
   "metadata": {
    "ExecuteTime": {
     "end_time": "2022-02-01T08:27:26.513235Z",
     "start_time": "2022-02-01T08:27:26.492116Z"
    }
   },
   "outputs": [
    {
     "name": "stdout",
     "output_type": "stream",
     "text": [
      "1 2 7 6 8 3 4 5 "
     ]
    }
   ],
   "source": [
    "# DFS 메서드 정의\n",
    "def dfs(graph, v, visited):\n",
    "    # 현재 노드를 방문처리\n",
    "    visited[v] = True\n",
    "    print(v, end=' ')\n",
    "    # 현재 노드와 연결된 다른 노드를 재귀적으로 방문\n",
    "    for i in graph[v]:\n",
    "        if not visited[i]:\n",
    "            dfs(graph, i, visited)\n",
    "\n",
    "# 각 노드가 연결된 정보를 표현(2차원 리스트)\n",
    "graph = [\n",
    "    [],\n",
    "    [2, 3, 8],\n",
    "    [1, 7],\n",
    "    [1, 4, 5],\n",
    "    [3, 5],\n",
    "    [3, 4],\n",
    "    [7],\n",
    "    [2, 6, 8],\n",
    "    [1, 7]\n",
    "]\n",
    "\n",
    "# 각 노드가 방문된 정보를 표현(1차원 치스트)\n",
    "visited = [False] * 9\n",
    "\n",
    "# 정의된 DFS함수 호출\n",
    "dfs(graph, 1, visited)"
   ]
  },
  {
   "cell_type": "markdown",
   "id": "055f4b95",
   "metadata": {},
   "source": [
    "## BFS(Breadth-First Search)\n",
    "\n",
    "* BFS는 너비우선 탐색이라고도 부르며, 그래프에서 가까운 노드부터 우선적으로 탐색하는 알고리즘 이다.\n",
    "* BFS는 큐 자료구조를 이용하며, 구체적인 동작과정은 다음과 같다.\n",
    "    1. 탐색 시작 노드를 큐에 삽입하고 방문처리를 한다.\n",
    "    2. 큐에서 노드를 꺼낸 뒤에 해당 노드의 인접 노드 중에서 방문하지 않은 노드를 모두 큐에 삽입하고 방문처리한다.\n",
    "    3. 더 이상 2번의 과정을 수행할 수 없을때까지 반복한다."
   ]
  },
  {
   "cell_type": "code",
   "execution_count": 3,
   "id": "dedb832c",
   "metadata": {
    "ExecuteTime": {
     "end_time": "2022-02-01T08:47:48.708172Z",
     "start_time": "2022-02-01T08:47:48.685398Z"
    }
   },
   "outputs": [
    {
     "name": "stdout",
     "output_type": "stream",
     "text": [
      "1 2 3 8 7 4 5 6 "
     ]
    }
   ],
   "source": [
    "from collections import deque\n",
    "\n",
    "# BFS 메서드 정의\n",
    "def bfs(graph, start, visited):\n",
    "    # 큐(Queue) 구현을 위해 deque 라이브러리 사용\n",
    "    queue = deque([start])\n",
    "    # 현재 노드를 방문처리\n",
    "    visited[start] = True\n",
    "    \n",
    "    # 큐가 빌때까지 반복\n",
    "    while queue:\n",
    "        # 큐에서 하나의 원소를 봅아 출력하기\n",
    "        v = queue.popleft()\n",
    "        print(v, end=' ')\n",
    "        # 아직 방문하지 않은 인접한 원소들을 큐에 삽입\n",
    "        for i in graph[v]:\n",
    "            # 각 노드가 연결된 정보를 표현(2차원 리스트)\n",
    "            if not visited[i]:\n",
    "                queue.append(i)\n",
    "                visited[i] = True\n",
    "\n",
    "# 각 노드가 방문된 정보를 표현(1차원 리스트)\n",
    "graph = [\n",
    "    [],\n",
    "    [2, 3, 8],\n",
    "    [1, 7],\n",
    "    [1, 4, 5],\n",
    "    [3, 5],\n",
    "    [3, 4],\n",
    "    [7],\n",
    "    [2, 6, 8],\n",
    "    [1, 7]\n",
    "]\n",
    "\n",
    "# 각 노드가 방문된 정보를 표현(1차원 리스트)\n",
    "visited = [False] * 9\n",
    "    \n",
    "# 정의된 BFS함수 호출\n",
    "bfs(graph, 1, visited)"
   ]
  },
  {
   "cell_type": "markdown",
   "id": "9190acaf",
   "metadata": {},
   "source": [
    "## <문제> 음료수 얼려먹기\n",
    "\n",
    "#### N X M 크기의 얼음 틀이 있습니다. 구멍이 뚫려있는 부분은 -, 칸막이가 존재하는 부분은 1로 표시됩니다. 구멍이 뚫려있는 부분끼리 상, 하, 좌, 우로 붙어 있는 경우 서로 연결되어 있는 것으로 간주합니다.\n",
    "#### 이때 얼음 틀의 모양이 주어졌을 때 생성되는 총 아이스크림의 개수를 구하는 프로그램을 작성하세요. 다음의 4X5 얼음틀 예시에서는 아이스크림이 총 3개 생성됩니다.\n",
    "00110<br>\n",
    "00011<br>\n",
    "11111<br>\n",
    "00000<br>\n",
    "\n",
    "* 첫번째 불에 얼음의 틀의 세로 길이 N과 가로 길이 M이 주어집니다.\n",
    "* 두 번째 줄부터 N + 1 번째 줄까지 얼음 트르이 형태가 주어집니다.\n",
    "* 이때 구멍이 뚫려있는 부분은 0, 그렇지 않은 부분은 1 입니다.\n",
    "* 한번에 만들 수 있는 아이스크림의 개수를 출력합니다."
   ]
  },
  {
   "cell_type": "markdown",
   "id": "9820fa40",
   "metadata": {},
   "source": [
    "### 문제 해결 아이디어\n",
    "\n",
    "* 이 문제는 DFS 혹은 BFS로 해결할 수 있다. 일단 앞에서 배운대로 얼음을 얼릴 수 있는 공간이 상, 하  좌, 우로 연결되어 있다고 표현할 수 있으므로 그래프 형태로 모델링 할 수 있습니다.\n",
    "\n",
    "* DFS를 활용하는 알고리즘은 다음과 같다.\n",
    "    1. 특정한 지점의 주변 상, 하, 좌, 우를 살펴본 뒤에 주변 지점 중에서 값이 '0'이면서 아직 방문하지 않은 지점이 있다면 해당 지점을 방문.\n",
    "    2. 방문한 지점에서 다시 상, 하, 좌, 우를 살펴보면서 방문을 진행하는 과정을 반복하면, 연결된 모든 지점을 방문할 수 있다.\n",
    "    3. 모든 노드에 대하여 1 ~ 2번의 과정을 반복하며, 방문하지 않은 지점의 수를 카운트한다."
   ]
  },
  {
   "cell_type": "code",
   "execution_count": 2,
   "id": "c0d864d1",
   "metadata": {
    "ExecuteTime": {
     "end_time": "2022-02-01T10:15:26.506211Z",
     "start_time": "2022-02-01T10:15:17.172306Z"
    }
   },
   "outputs": [
    {
     "name": "stdout",
     "output_type": "stream",
     "text": [
      "4 5\n",
      "00110\n",
      "00011\n",
      "11111\n",
      "00000\n",
      "3\n"
     ]
    }
   ],
   "source": [
    "# DFS로 특정 노드를 방문하고 연결된 모든 노드들도 방문\n",
    "def dfs(x, y):\n",
    "    # 주어진 범위를 벗어나는 경우에는 즉시 종료\n",
    "    if x <= -1 or x >= n or y <= -1 or y >= m:\n",
    "        return False\n",
    "    # 현재 노드를 아직 방문하지 않았다면\n",
    "    if graph[x][y] == 0:\n",
    "        # 해당 노드 방문 처리\n",
    "        graph[x][y] = 1\n",
    "        # 상, 하, 좌, 우의 위치들도 모두 재귀적으로 호출\n",
    "        dfs(x-1, y)\n",
    "        dfs(x, y-1)\n",
    "        dfs(x+1, y)\n",
    "        dfs(x, y+1)\n",
    "        return True\n",
    "    return False\n",
    "\n",
    "# N, M을 공백을 기준으로 구분하여 입력 받기\n",
    "n, m = map(int, input().split())\n",
    "\n",
    "# 2차원 리스트의 맵 정보 입력 받기\n",
    "graph = []\n",
    "for i in range(n):\n",
    "    graph.append(list(map(int, input())))\n",
    "    \n",
    "# 모든 노드(위치)에 대하여 음료수 채우기\n",
    "result = 0\n",
    "for i in range(n):\n",
    "    for j in range(m):\n",
    "        # 현재 위치에서 DFS 수행\n",
    "        if dfs(i, j) == True:\n",
    "            result += 1\n",
    "\n",
    "print(result)"
   ]
  },
  {
   "cell_type": "markdown",
   "id": "283e56c2",
   "metadata": {},
   "source": [
    "## <문제>미로탈출\n",
    "\n",
    "#### 진호는 N X M 크기의 직사각형 형태의 미로에 갇혔습니다. 미로에는 여러마리의 괴물이 있어 이를 피해 탈출해야 합니다.\n",
    "#### 진호의 위치는 (1, 1)이며 미로의 출구는 (N, M)의 위치에 존재하며 한 번에 한 칸 씩 이동할 수 있습니다. 이때 괴물이 있는 부분은 0으로, 괴물이 없는 부분은 1로 표시되어 있습니다. 미로는 반드시 탈출할 수 있는 형태로 제시됩니다.\n",
    "#### 이때 진호가 탈출하기 위해 움직여야 하는 최소 칸의 개수를 구하세요. 칸을 셀 때는 시작과 칸과 마지막 칸을 모두 포함해서 계산합니다."
   ]
  },
  {
   "cell_type": "markdown",
   "id": "de6930de",
   "metadata": {},
   "source": [
    "#### 문제 조건\n",
    "* 첫째 줄에 두 정수 N, M이 주어진다. 다음 N개의 줄에는 각각 M개의 정수(0 혹은 1)로 미로의 정보가 주어진다. 각각의 수들은 공백 없이 붙어서 입력으로 제시된다. 또한 시작칸과 마지막 칸은 항상 1이다.\n",
    "* 첫째 줄에 최소 이동 칸의 개수를 출력한다.\n",
    "\n",
    "* 입력 예시\n",
    "5 6<br>\n",
    "101010<br>\n",
    "111111<br>\n",
    "000001<br>\n",
    "111111<br>\n",
    "111111<br>\n",
    "\n",
    "* 출력예시<br>\n",
    "10"
   ]
  },
  {
   "cell_type": "markdown",
   "id": "bf087566",
   "metadata": {},
   "source": [
    "#### 문제 해결 아이디어\n",
    "\n",
    "* BFS는 시작 지점에서 가까운 노드부터 차례대로 그래프의 모든 노드를 탐색한다.\n",
    "* 상, 하, 좌, 우로 연결된 모든 노드로의 거리가 1로 동일하다.\n",
    "    * 따라서 (1, 1)지점부터 BFS를 수행하여 모든 노드의 최단 거리 값을 기록하면 해결할 수 있다."
   ]
  },
  {
   "cell_type": "code",
   "execution_count": 2,
   "id": "07dc02d9",
   "metadata": {
    "ExecuteTime": {
     "end_time": "2022-02-01T11:09:28.456109Z",
     "start_time": "2022-02-01T11:09:07.874590Z"
    }
   },
   "outputs": [
    {
     "name": "stdout",
     "output_type": "stream",
     "text": [
      "5 6\n",
      "101010\n",
      "111111\n",
      "000001\n",
      "111111\n",
      "111111\n",
      "10\n"
     ]
    }
   ],
   "source": [
    "from collections import deque\n",
    "# BFS 소스코드 구현\n",
    "def bfs(x, y):\n",
    "    # 큐(queue) 구현을 위해 deque 라이브러리 사용\n",
    "    queue = deque()\n",
    "    queue.append((x, y))\n",
    "    \n",
    "    # 큐가 빌때까지 반복\n",
    "    while queue:\n",
    "        x, y = queue.popleft()\n",
    "        # 현재 위치에서 4가지 방향으로 위치 확인\n",
    "        for i in range(4):\n",
    "            nx = x + dx[i]\n",
    "            ny = y + dy[i]\n",
    "            if nx < 0 or nx >= n or ny < 0 or ny >= m:\n",
    "                continue\n",
    "            \n",
    "            if graph[nx][ny] == 0:\n",
    "                continue\n",
    "            \n",
    "            if graph[nx][ny] == 1:\n",
    "                graph[nx][ny] = graph[x][y] + 1\n",
    "                queue.append((nx, ny))\n",
    "                \n",
    "    return graph[n-1][m-1]\n",
    "\n",
    "n, m = map(int, input().split())\n",
    "graph = []\n",
    "for i in range(n):\n",
    "    graph.append(list(map(int, input())))\n",
    "    \n",
    "dx = [-1, 1, 0, 0]\n",
    "dy = [0, 0, -1, 1]\n",
    "\n",
    "print(bfs(0,0))"
   ]
  }
 ],
 "metadata": {
  "kernelspec": {
   "display_name": "Python 3 (ipykernel)",
   "language": "python",
   "name": "python3"
  },
  "language_info": {
   "codemirror_mode": {
    "name": "ipython",
    "version": 3
   },
   "file_extension": ".py",
   "mimetype": "text/x-python",
   "name": "python",
   "nbconvert_exporter": "python",
   "pygments_lexer": "ipython3",
   "version": "3.9.13"
  }
 },
 "nbformat": 4,
 "nbformat_minor": 5
}
