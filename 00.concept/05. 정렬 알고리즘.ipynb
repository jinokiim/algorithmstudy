{
 "cells": [
  {
   "cell_type": "markdown",
   "id": "46a210cf",
   "metadata": {},
   "source": [
    "## 정렬 알고리즘\n",
    "\n",
    "* 정렬(Sorting)이란 데이터를 특정한 기준에 따라 순서대로 나열하는 것을 말한다.\n",
    "* 일반적으로 문제 상황에 따라서 적절한 정렬 알고리즘이 공식처럼 사용된다."
   ]
  },
  {
   "cell_type": "markdown",
   "id": "834aa4c4",
   "metadata": {},
   "source": [
    "## 선택 정렬\n",
    "\n",
    "* 처리되지 않은 데이터 중에서 가장 작은 테이터를 선택해 맨 앞에 있는 데이터와 바꾸는 것을 반복한다.\n",
    "\n",
    "#### 선택 정렬 동작 예시\n",
    "* 정렬할 데이터를 준비 [7, 5, 9, 0, 3, 1, 6, 2, 4, 8]\n",
    "\n",
    "1. 처리 되지 않은 데이터 중 가장 작은 '0'을 선택해 가장 앞의 '7'와 바꾼다.\n",
    "2. 처리 되지 않은 데이터 중 가장 작은 '1'을 선택해 가장 앞의 '5'와 바꾼다.\n",
    "3. 처리 되지 않은 데이터 중 가장 작은 '2'을 선택해 가장 앞의 '9'와 바꾼다.\n",
    "4. 계속 반복하면 정렬이 완료된다."
   ]
  },
  {
   "cell_type": "code",
   "execution_count": 2,
   "id": "6afb8578",
   "metadata": {
    "ExecuteTime": {
     "end_time": "2022-02-02T05:42:28.062543Z",
     "start_time": "2022-02-02T05:42:28.053147Z"
    }
   },
   "outputs": [
    {
     "name": "stdout",
     "output_type": "stream",
     "text": [
      "[0, 1, 2, 3, 4, 5, 6, 7, 8, 9]\n"
     ]
    }
   ],
   "source": [
    "array = [7, 5, 9, 0, 3, 1, 6, 2, 4, 8]\n",
    "\n",
    "for i in range(len(array)):\n",
    "    min_index = i # 가장 작은 원소의 인덱스\n",
    "    for j in range(i+1, len(array)):\n",
    "        if array[min_index] > array[j]:\n",
    "            min_index = j\n",
    "    array[i], array[min_index] = array[min_index], array[i] # 변경\n",
    "    \n",
    "print(array)"
   ]
  },
  {
   "cell_type": "markdown",
   "id": "33410fe9",
   "metadata": {},
   "source": [
    "#### 선택 정렬의 시간 복잡도\n",
    "\n",
    "* 선택 정렬은 N번만큼 가장 작은 수를 찾아서 맨 앞으로 보내낟.\n",
    "* 구현 방식에 따라서 사소한 오차는 있을 수 있지만, 전체 연산 횟수는 다음과 같다.\n",
    "$$O(N^2)$$"
   ]
  },
  {
   "cell_type": "markdown",
   "id": "fd883a30",
   "metadata": {},
   "source": [
    "## 삽입 정렬\n",
    "\n",
    "* 처리되지 않은 데이터를 하나씩 골라 적절한 위치에 삽입한다.\n",
    "* 선택 정렬에 비해 구현 난이도가 높은 편이지만, 일반적으로 더 효율적으로 동작한다.\n",
    "\n",
    "#### 삽입 정렬 동작 예시\n",
    "\n",
    "* 정렬할 데이터를 준비 [7, 5, 9, 0, 3, 1, 6, 2, 4, 8]\n",
    "1. 첫번째 데이터 '7'은 그 자체로 정렬이 되어 있다고 판단하고, 두 번째 데이터인 '5'가 어떤 위치로 들어갈지 판단. '7'의 왼쪽으로 들어가거나 오른쪽으로 들어가거나 두 경우만 존재한다.\n",
    "2. 이어서 '9'가 어떤 위치로 들어갈지 판단한다.\n",
    "3. 이어서 '0'이 어떤 위치로 들어갈지 판단한다.\n",
    "4. 과정을 반복하면 정렬이 완료된다."
   ]
  },
  {
   "cell_type": "code",
   "execution_count": 4,
   "id": "7df565ac",
   "metadata": {
    "ExecuteTime": {
     "end_time": "2022-02-02T06:06:10.330184Z",
     "start_time": "2022-02-02T06:06:10.314221Z"
    }
   },
   "outputs": [
    {
     "name": "stdout",
     "output_type": "stream",
     "text": [
      "[0, 1, 2, 3, 4, 5, 6, 7, 8, 9]\n"
     ]
    }
   ],
   "source": [
    "array = [7, 5, 9, 0, 3, 1, 6, 2, 4, 8]\n",
    "\n",
    "for i in range(1, len(array)):\n",
    "    for j in range(i, 0, -1):  # 인덱스 i부터 1까지 1씩 감소하며 반복\n",
    "        if array[j]<array[j-1]:\n",
    "            array[j], array[j-1] = array[j-1], array[j]\n",
    "        else:\n",
    "            break\n",
    "print(array)"
   ]
  },
  {
   "cell_type": "markdown",
   "id": "b56dbc18",
   "metadata": {},
   "source": [
    "#### 삽입 정렬의 시간 복잡도\n",
    "\n",
    "* 삽입 정렬의 시간 복잡도는 $O(N^2)$이며, 선택 정렬과 마찬가지로 반복문이 두 번 중첩되어 사용된다.\n",
    "* 삽입 정렬은 현재 리스트의 데이터가 거의 정렬되어 있는 상태라면 매우 빠르게 동작한다.\n",
    "    * 최선의 경우 O(N)의 시간 복잡도를 가진다.\n",
    "    * 이미 정렬되어 있는 상태에서 다시 삽입정렬을 수행하면 O(N)의 시간복잡도를 갖는다."
   ]
  },
  {
   "cell_type": "markdown",
   "id": "d505e987",
   "metadata": {},
   "source": [
    "## 퀵 정렬\n",
    "\n",
    "* 기준 데이터를 설정하고 그 기준보다 큰 데이터와 작은 데이터의 위치를 바꾸는 방법이다.\n",
    "* 일반적인 상황에서 가장 많이 사용되는 정렬 알고리즘 중 하나디아.\n",
    "* 병합 정렬과 더불어 대부분의 프로그래밍 언어의 정렬 라이브러리의 근간이 되는 알고리즘이다.\n",
    "* 가장 기본적인 퀵정렬은 첫 번째 데이터를 기준 데이터(Pivot)로 설정한다.\n",
    "\n",
    "#### 퀵 정렬 동작 예시\n",
    "\n",
    "[5, 7, 9, 0, 3, 1, 6, 2, 4, 8]\n",
    "1. pivot = '5'이다. 왼쪽부터 '5'보다 큰 데이터를 선택하므로 '7'이 선택되고, 오른쪽에서부터 '5'부다 작은 데이터를 선택하므로'4'가 선택된다.<br>이제 이 두 데이터의 위치를 서로 변경한다.<br>\n",
    "[5, 4, 9, 0, 3, 1, 6, 2, 7, 8]<br>\n",
    "<br>\n",
    "2. pivot = '5'이다. 왼쪽에서부터 '5'보다 큰 데이터를 선택하므로 '9'가 선택되고, 오른쪽에서부터 '5'보다 작은 데이터를 선택하므로 '2'가 선택된다.<br> 이제 이 두 데이터의 위치를 서로 변경한다.<br>\n",
    "[5, 4, 2, 0, 3, 1, 6, 9, 7, 8]<br>\n",
    "<br>\n",
    "3. pivot = '5'이다. 왼쪽에서 부터 '보다 큰 데이터를 선택하므로 '6'이 선택되고, 오른쪽에서부터 '5'보다 작은 데이터를 선택하므로 '1'이 선택된다.<br> 단, 이처럼 위치가 엇갈리는 경우 '비펏'과 '작은 데이터'의 위치를 서로 변경한다.<br>\n",
    "[1, 4, 2, 0, 3, 5, 6, 9, 7, 8]<br>\n",
    "<br>\n",
    "4. [분할 완료] 이제 '5'의 왼쪽에 있는 데이터는 모두 5보다 작고, 오른쪽에 있는 데이터는 모두 '5'보다 크다는 특징이 있다. 이렇게 피벗을 기준으로 데이터 묶음을 나누는 작업을 분할(Divide)이라고 한다.<br><br>\n",
    "\n",
    "5. [왼쪽 데이터 묶음 정렬] 왼쪽에 있는 데이터에 대해서 마차나가지로 정렬을 수행한다.\n",
    "6. [오른쪽 데이터 묶음 정렬] 오른쪽에 있는 데이터에 대해서 마찬가지로 정렬을 수행한다.\n",
    "    * 이러한 과정을 반복하면 전체 데이터에 대해서 정렬이 수행된다.\n",
    "    \n",
    "#### 퀵 정렬이 빠른 이유\n",
    "\n",
    "* 이상적인 경우 분할이 절반씩 일어난다면 전체 연산 횟수로 $O(NlogN)$를 기대할 수 있다.\n",
    "    * $너비 \\times 높이 = N \\times logN = NlogN$\n",
    "    \n",
    "#### 퀵 정렬의 시간 복잡도\n",
    "* 퀵 정렬은 평균의 경우 $O(NlogN)$의 시간 복잡도를 가진다.\n",
    "* 하지만 최악의 경우 $O(N^2)$의 시간복잡도를 가진다.\n",
    "    * 첫 번째 원소를 피벗으로 삼을 때, 이미 정렬된 배열에 대해서 퀵 정렬을 수행하면 $O(N^2)$의 시간복잡도를 가진다."
   ]
  },
  {
   "cell_type": "code",
   "execution_count": 6,
   "id": "ab12b7da",
   "metadata": {
    "ExecuteTime": {
     "end_time": "2022-02-02T06:44:44.433396Z",
     "start_time": "2022-02-02T06:44:44.416947Z"
    }
   },
   "outputs": [
    {
     "name": "stdout",
     "output_type": "stream",
     "text": [
      "[0, 1, 2, 3, 4, 5, 6, 7, 8, 9]\n"
     ]
    }
   ],
   "source": [
    "array = [5, 7, 9, 0, 3, 1, 6, 2, 4, 8]\n",
    "\n",
    "def quick_sort(array, start, end):\n",
    "    if start >= end: # 원소가 1개인 경우 종료\n",
    "        return\n",
    "    pivot = start # 피벗은 첫 번째 원소\n",
    "    left = start + 1\n",
    "    right = end\n",
    "    while(left <= right):\n",
    "        # 피벗보다 큰 데이터를 찾을 때까지 반복\n",
    "        while(left <= end and array[left] <= array[pivot]):\n",
    "            left += 1\n",
    "        # 피벗보다 작은 데이터를 찾을 때까지 반복\n",
    "        while(right > start and array[right] >= array[pivot]):\n",
    "            right -= 1\n",
    "        if(left > right):  # 엇갈렸다면 작은 데이터와 피벗을 교체\n",
    "            array[right], array[pivot] = array[pivot], array[right]\n",
    "        else:  # 엇갈리지 않았다면 작은 데이터와 큰 데이터를 교체\n",
    "            array[left], array[right] = array[right], array[left]\n",
    "    # 분할 이후 왼쪽 부분과 오른쪽 부분에서 각각 정렬 수행\n",
    "    quick_sort(array, start, right-1)\n",
    "    quick_sort(array, right+1, end)\n",
    "    \n",
    "quick_sort(array, 0, len(array)-1)\n",
    "print(array)"
   ]
  },
  {
   "cell_type": "code",
   "execution_count": 7,
   "id": "527cfa55",
   "metadata": {
    "ExecuteTime": {
     "end_time": "2022-02-02T06:52:56.360602Z",
     "start_time": "2022-02-02T06:52:56.342019Z"
    }
   },
   "outputs": [
    {
     "name": "stdout",
     "output_type": "stream",
     "text": [
      "[0, 1, 2, 3, 4, 5, 6, 7, 8, 9]\n"
     ]
    }
   ],
   "source": [
    "array = [5, 7, 9, 0, 3, 1, 6, 2, 4, 8]\n",
    "\n",
    "def quick_sort(array):\n",
    "    # 리스트가 하나 이하의 원소만을 담고 있다면 종료\n",
    "    if len(array) <= 1:\n",
    "        return array\n",
    "    pivot = array[0] # 피벗은 첫 번째 원소\n",
    "    tail = array[1:] # 피벗을 제외한 리스트\n",
    "    \n",
    "    left_side = [x for x in tail if x <= pivot]  # 분할된 왼쪽 부분\n",
    "    right_side = [x for x in tail if x > pivot]  # 분할된 오른쪽 부분\n",
    "    \n",
    "    # 분할 이후 왼쪽과 오른쪽에서 각각 정렬 수행, 전체 리스트 반환\n",
    "    return quick_sort(left_side) + [pivot] + quick_sort(right_side)\n",
    "\n",
    "print(quick_sort(array))"
   ]
  },
  {
   "cell_type": "markdown",
   "id": "2b1714bb",
   "metadata": {
    "ExecuteTime": {
     "end_time": "2022-02-02T06:53:06.225667Z",
     "start_time": "2022-02-02T06:53:06.202518Z"
    }
   },
   "source": [
    "## 계수 정렬\n",
    "\n",
    "* 특정한 조건이 부합할 때만 사용할 수 있지만 매우 빠르게 동작하는 정렬 알고리즘\n",
    "    * 계수 정렬은 데이터의 크기 범위가 제한되어 정수 형태로 표현할 수 있을 때 사용 가능.\n",
    "* 데이터의 개수가 N, 데이터(양수) 중 최대값이 K일 때 최악의 경우에도 수행시간 $O(N+K)$를 보장한다.\n",
    "\n",
    "#### 계수 정렬 동작 예시\n",
    "\n",
    "* 정렬할 데이터 : [7, 5, 9, 0, 3, 1, 6, 2, 9, 1, 4, 8, 0, 5, 2]\n",
    "1. 가장 작은 데이터부터 가장 큰 데이터까지의 범위가 모두 감길 수 있도록 리스트를 생성.\n",
    "2. 데이터를 하나씩 확인하며 데이터의 값과 동일한 인덱스의 데이터를 1씩 증가시킨다.\n",
    "3. 결과적으로 최종 리스트에는 각 데이터가 몇번씩 등장했는지 그 횟수가 기록.\n",
    "|인덱스|0|1|2|3|4|5|6|7|8|9|\n",
    "|:---:|:---:|:---:|:---:|:---:|:---:|:---:|:---:|:---:|:---:|:---:|\n",
    "|개수(Count)|2|2|2|1|1|2|1|1|1|2|\n",
    "\n",
    "* 결과를 확인할 때는 리스트의 첫 번째 데이터부터 하나씩 그 값만큼 반복하여 인덱스를 출력.\n",
    "* 출력 결과: [0, 0, 1, 1, 2, 2, 3, 4, 5, 5, 6, 7, 8, 9, 9]\n",
    "\n"
   ]
  },
  {
   "cell_type": "code",
   "execution_count": 9,
   "id": "0e44ceca",
   "metadata": {
    "ExecuteTime": {
     "end_time": "2022-02-02T07:55:56.956234Z",
     "start_time": "2022-02-02T07:55:56.942634Z"
    }
   },
   "outputs": [
    {
     "name": "stdout",
     "output_type": "stream",
     "text": [
      "0 0 1 1 2 2 3 4 5 5 6 7 8 9 9 "
     ]
    }
   ],
   "source": [
    "# 모든 원소의 값이 0보다 크거나 같다고 가정\n",
    "array = [7, 5, 9, 0, 3, 1, 6, 2, 9, 1, 4, 8, 0, 5, 2]\n",
    "\n",
    "# 모든 범위를 포함하는 리스트 생성(0으로 초기화)\n",
    "count = [0] * (max(array) + 1)\n",
    "\n",
    "for i in range(len(array)):\n",
    "    count[array[i]] += 1 # 각 데이터에 해당하는 인덱스의 값 증가\n",
    "    \n",
    "for i in range(len(count)):\n",
    "    for j in range(count[i]):\n",
    "        print(i, end=' ')"
   ]
  },
  {
   "cell_type": "markdown",
   "id": "85c0cb4d",
   "metadata": {},
   "source": [
    "### 정렬 알고리즘 비교\n",
    "\n",
    "* 대부분의 프로그래밍 언어에서 지원하는 표준 정렬 라이브러리는 최악의 경우에도 $O(NlogN)$을 보장하도록 설계되어 있다.\n",
    "\n",
    "|정렬 알고리즘|평균 시간 복잡도|공간 복잡도|특징|\n",
    "|:---:|:---:|:---:|:---:|\n",
    "|선택 정렬|$O(N^2)$|$O(N)$|아이디어가 매우 간단|\n",
    "|삽입 정렬|$O(N^2)$|$O(N)$|데이터가 거의 정렬되어 있을 때는 가장 빠르다.|\n",
    "|퀵 정렬|$O(NlogN)$|$O(N)$|대부분의 경우에 가장 적합하며, 충분히 빠르다.|\n",
    "|계수 정렬|$O(N+K)$|O(N+K)|데이터의 크기가 한정되어 있는 경우에만 사용이 가능하지만 매우 빠르다.|"
   ]
  },
  {
   "cell_type": "markdown",
   "id": "bcadef94",
   "metadata": {},
   "source": [
    "## <문제> 두 배열의 원소 교체\n",
    "\n",
    "#### 진호는 두개의 배열 A와 B를 가지고 있습니다. 두 배열은 N개의 원소로 구성되어 있으며, 배열의 원소는 모두 자연수 입니다.\n",
    "#### 진호는 최대 K번의 바꿔치기 연산을 수행할 수 있는데, 바꿔치기 연산이란 배열 A에 있는 원소 하나와 배열 B에 있는 원소 하나를 골라서 두 원소를 서로 바꾸는 것을 말합니다.\n",
    "#### 진호의 최종 목표는 배열 A의 모든 원소의 합이 최대가 되도록 하는 것이며, 여러분은 진호를 도와야 합니다.\n",
    "#### N, K그리고 배열 A와 B의 정보가 주어졌을 때, 최대 K번의 바꿔치기 연산을 수행하여 만들 수 있는 배열 A의 모든 원소의 합의 최댓값을 출력하는 프로그램을 작성하세요.\n",
    "\n",
    "* 예를 들어 N = 5, K = 3이고, 배열 A와 B가 다음과 같다.\n",
    "    * A = [1, 2, 5, 4, 3]\n",
    "    * B = [5, 5, 6, 6, 5]\n",
    "\n",
    "* 이 경우, 다음과 같이 세번의 연산을 수행할 수 있다.\n",
    "    * 연산 1) A의 원소 '1'과 B의 원소 '6'을 바꾸기\n",
    "    * 연산 2) A의 원소 '2'과 B의 원소 '6'을 바꾸기\n",
    "    * 연산 3) A의 원소 '3'과 B의 원소 '5'을 바꾸기\n",
    "    \n",
    "* 세 번의 연산 이후 배열 A와 B의 상태는 다음과 같다.\n",
    "    * A = [6, 6, 5, 4, 5]\n",
    "    * B = [3, 5, 1, 2, 5]\n",
    "    \n",
    "* 이때 A의 모든 원소의 합은 26이 되며, 이보다 더 합을 크게 만들수는 없다.\n",
    "\n",
    "#### 문제 해결 아이디어\n",
    "* 핵심 아이디어: 매번 A에서 가장 작은 원소를 골라서 B에서 가장 큰 원소와 교체한다.\n",
    "* 가장 먼저 A와 B가 주어지면 A에 대하여 오름차순 정렬하고, B에 대하여 내림차순 정렬한다.\n",
    "* 이후에 두 배열의 원소를 첫 번째 인덱스부터 ㅊ례로 확인하면서 A의 원소가 B의 원소보다 작을때만 교체를 수행.\n",
    "* 이 문제에서는 두 배열의 원소가 최대 1000,000개까지 입력될 수 있으므로, 최악의 경우 $O(NlogN)$을 보장하는 정렬 알고리즘을 이용해야한다."
   ]
  },
  {
   "cell_type": "code",
   "execution_count": 13,
   "id": "a7bc103f",
   "metadata": {
    "ExecuteTime": {
     "end_time": "2022-02-02T09:15:07.585285Z",
     "start_time": "2022-02-02T09:14:59.484389Z"
    }
   },
   "outputs": [
    {
     "name": "stdout",
     "output_type": "stream",
     "text": [
      "5 3\n",
      "6 6 5 4 5\n",
      "3 5 1 2 5\n",
      "27\n"
     ]
    }
   ],
   "source": [
    "# N = 5, K = 3\n",
    "# A = [6, 6, 5, 4, 5]\n",
    "# B = [3, 5, 1, 2, 5]\n",
    "\n",
    "n, k = map(int, input().split())\n",
    "\n",
    "a = list(map(int, input().split()))\n",
    "b = list(map(int, input().split()))\n",
    "\n",
    "a.sort()\n",
    "b.sort(reverse=True)\n",
    "\n",
    "for i in range(k):\n",
    "    if a[i] < b[i]:\n",
    "        a[i], b[i] = b[i], a[i]\n",
    "    else:\n",
    "        break\n",
    "        \n",
    "print(sum(a))"
   ]
  }
 ],
 "metadata": {
  "kernelspec": {
   "display_name": "Python 3.9.6 64-bit",
   "language": "python",
   "name": "python396jvsc74a57bd0aee8b7b246df8f9039afb4144a1f6fd8d2ca17a180786b69acc140d282b71a49"
  },
  "language_info": {
   "codemirror_mode": {
    "name": "ipython",
    "version": 3
   },
   "file_extension": ".py",
   "mimetype": "text/x-python",
   "name": "python",
   "nbconvert_exporter": "python",
   "pygments_lexer": "ipython3",
   "version": "3.9.6"
  }
 },
 "nbformat": 4,
 "nbformat_minor": 5
}
