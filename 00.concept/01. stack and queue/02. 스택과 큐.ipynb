{
 "cells": [
  {
   "cell_type": "markdown",
   "id": "1936438a",
   "metadata": {},
   "source": [
    "## 스택과 큐 자료구조"
   ]
  },
  {
   "cell_type": "markdown",
   "id": "854c6bad",
   "metadata": {},
   "source": [
    "## 스택 자료구조\n",
    "\n",
    "* 먼저 들어온 데이터가 나중에 나가는 선입후출의 자료구조\n",
    "* 입구와 출구가 동일한 형태로 스택을 시각화 할 수 있다."
   ]
  },
  {
   "cell_type": "code",
   "execution_count": 1,
   "id": "89ca1264",
   "metadata": {
    "ExecuteTime": {
     "end_time": "2022-01-27T05:18:09.289703Z",
     "start_time": "2022-01-27T05:18:09.269484Z"
    }
   },
   "outputs": [
    {
     "name": "stdout",
     "output_type": "stream",
     "text": [
      "[1, 3, 2, 5]\n",
      "[5, 2, 3, 1]\n"
     ]
    }
   ],
   "source": [
    "stack = []\n",
    "\n",
    "# 삽입(5) - 삽입(2) - 삽입(3) - 삽입(7) - 삭제() - 삽입(1) - 삽입(4) -  삭제()\n",
    "stack.append(5)\n",
    "stack.append(2)\n",
    "stack.append(3)\n",
    "stack.append(7)\n",
    "stack.pop()\n",
    "stack.append(1)\n",
    "stack.append(4)\n",
    "stack.pop()\n",
    "\n",
    "print(stack[::-1]) # 최 상단 원소부터 풀력\n",
    "print(stack)"
   ]
  },
  {
   "cell_type": "markdown",
   "id": "b6f8c14b",
   "metadata": {},
   "source": [
    "## 큐 자료구조\n",
    "\n",
    "* 먼저 들어온 데이터가 먼저 나가는 형식(선입선출)의 자료구조이다.\n",
    "* 큐는 입구와 출구가 모두 뚫려있는 터널과 같은 형태로 시각화 할 수 있다.\n"
   ]
  },
  {
   "cell_type": "code",
   "execution_count": 3,
   "id": "949866c8",
   "metadata": {
    "ExecuteTime": {
     "end_time": "2022-01-27T05:24:44.681881Z",
     "start_time": "2022-01-27T05:24:44.667786Z"
    }
   },
   "outputs": [
    {
     "name": "stdout",
     "output_type": "stream",
     "text": [
      "deque([3, 7, 1, 4])\n",
      "deque([4, 1, 7, 3])\n"
     ]
    }
   ],
   "source": [
    "from collections import deque\n",
    "\n",
    "# 큐(queue) 구현을 위해 deque 라이브러리 사용\n",
    "queue = deque()\n",
    "\n",
    "# 삽입(5) - 삽입(2) - 삽입(3) - 삽입(7) - 삭제() - 삽입(1) - 삽입(4) -  삭제()\n",
    "queue.append(5)\n",
    "queue.append(2)\n",
    "queue.append(3)\n",
    "queue.append(7)\n",
    "queue.popleft()\n",
    "queue.append(1)\n",
    "queue.append(4)\n",
    "queue.popleft()\n",
    "\n",
    "print(queue) # 먼저 들어온 순서대로 풀력\n",
    "queue.reverse() # 역순으로 바꾸기\n",
    "print(queue) # 나중에 들어온 원소부터 출력 "
   ]
  }
 ],
 "metadata": {
  "kernelspec": {
   "display_name": "Python 3.9.6 64-bit",
   "language": "python",
   "name": "python396jvsc74a57bd0aee8b7b246df8f9039afb4144a1f6fd8d2ca17a180786b69acc140d282b71a49"
  },
  "language_info": {
   "codemirror_mode": {
    "name": "ipython",
    "version": 3
   },
   "file_extension": ".py",
   "mimetype": "text/x-python",
   "name": "python",
   "nbconvert_exporter": "python",
   "pygments_lexer": "ipython3",
   "version": "3.9.6"
  }
 },
 "nbformat": 4,
 "nbformat_minor": 5
}
