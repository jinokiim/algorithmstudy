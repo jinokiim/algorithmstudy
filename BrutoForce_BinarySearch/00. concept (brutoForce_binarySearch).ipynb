{
 "cells": [
  {
   "cell_type": "markdown",
   "id": "54c38550",
   "metadata": {},
   "source": [
    "# 선형검색 이진검색\n",
    "\n",
    "배열은 한 자료형의 여러 값들이 메모리상에 모여 있는 구조이다.\n",
    "컴퓨터는 이 값들에 접글할 때 배열의 인덱스 하나하나를 접근한다.\n",
    "만약 어떤 값이 배열 안에 속해있는지를 찾아 보기 위해서는 배열이 정렬되어 있는지 여부에 따라 아래와 같은 방법을 사용할 수 있다.\n",
    "\n",
    "## 선형 검색\n",
    "\n",
    "배열의 인덱스를 처음부터 끝까지 하나씩 증가시키면서 방문하여 그 값이 속하는지를 검사한다.\n",
    "\n"
   ]
  },
  {
   "cell_type": "markdown",
   "id": "d1a5923f",
   "metadata": {},
   "source": [
    "## 완전탐색\n",
    "\n",
    "가능한 모든 경우의 수를 다 구해서 값을 찾는것을 말한다.\n",
    "\n",
    "### 완전탐색 반복문 구현\n",
    "\n",
    "* 8장의 트럼프 카드에서 숫자 8인 카드가 몇번째인지 찾기"
   ]
  },
  {
   "cell_type": "code",
   "execution_count": 1,
   "id": "cd7cb694",
   "metadata": {},
   "outputs": [],
   "source": [
    "def solution(trump):\n",
    "    for i in range(len(trump)):\n",
    "        if trump[i] == 8:\n",
    "            return i\n",
    "    return -1             # 트럼프에 8이없을때 -1반환"
   ]
  },
  {
   "cell_type": "markdown",
   "id": "64e6e4d3",
   "metadata": {},
   "source": [
    "* 재귀함수를 통한 반복문 구현"
   ]
  },
  {
   "cell_type": "code",
   "execution_count": 2,
   "id": "9ed0f66d",
   "metadata": {},
   "outputs": [],
   "source": [
    "def solution(trump, loc):\n",
    "    if trump[loc] == 8:\n",
    "        return loc\n",
    "    else:\n",
    "        return solution(trump, loc+1)"
   ]
  },
  {
   "cell_type": "markdown",
   "id": "ceec4fce",
   "metadata": {},
   "source": [
    "## 이진 검색\n",
    "\n",
    "만약 배열이 정렬되어 있다면, 배열 중간 인덱스부터 시작하여 찾고자 하는 값과 비교하며 그보다 작은(작은 값이 저장되어 있는) 인덱스 또는 큰(큰 값이 저장되어 있는)인덱스로 이동을 반복하면 된다.\n",
    "\n",
    "### 이진검색 반복문 구현\n",
    "\n",
    "* 오름차순으로 정렬된 8장의 트럼프 카드에서 지정된 숫자 찾기\n",
    "* 인덱스 0의 위치를 left, 가장 큰값을 right 로 지정\n",
    "* left 와 right의 중앙값을 mid로 지정"
   ]
  },
  {
   "cell_type": "code",
   "execution_count": 3,
   "id": "818e9c1f",
   "metadata": {},
   "outputs": [],
   "source": [
    "def solution(trump):\n",
    "    left = 0\n",
    "    right = len(trump)-1\n",
    "    \n",
    "    while(left<=right):\n",
    "        mid = (left+right)//2\n",
    "        if trump[mid] == 8:\n",
    "            return mid\n",
    "        elif trump[mid] < 8:\n",
    "            left = mid + 1\n",
    "        elif trump[mid] -1:\n",
    "            right = mid - 1\n",
    "    return mid"
   ]
  }
 ],
 "metadata": {
  "kernelspec": {
   "display_name": "Python 3.9.6 64-bit ('playdata': conda)",
   "language": "python",
   "name": "python396jvsc74a57bd084c32ba9f13543de06db758d214554c655fa453ae6ce06eb19158602db9f1fd7"
  },
  "language_info": {
   "codemirror_mode": {
    "name": "ipython",
    "version": 3
   },
   "file_extension": ".py",
   "mimetype": "text/x-python",
   "name": "python",
   "nbconvert_exporter": "python",
   "pygments_lexer": "ipython3",
   "version": "3.9.6"
  }
 },
 "nbformat": 4,
 "nbformat_minor": 5
}
