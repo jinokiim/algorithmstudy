{
 "cells": [
  {
   "cell_type": "markdown",
   "id": "b11c4193",
   "metadata": {},
   "source": [
    "## 문제 설명\n",
    "배열 array의 i번째 숫자부터 j번째 숫자까지 자르고 정렬했을 때, k번째에 있는 수를 구하려 합니다.  \n",
    "예를 들어 array가 [1, 5, 2, 6, 3, 7, 4], i = 2, j = 5, k = 3이라면  \n",
    "1. array의 2번째부터 5번째까지 자르면 [5, 2, 6, 3]입니다.  \n",
    "2. array 에서 나온 배열을 정렬하면 [2, 3, 5, 6]입니다.  \n",
    "3. array 에서 나온 배열의 3번째 숫자는 5입니다.  \n",
    "배열 array, [i, j, k]를 원소로 가진 2차원 배열 commands가 매개변수로 주어질 때,  \n",
    "commands의 모든 원소에 대해 앞서 설명한 연산을 적용했을 때 나온 결과를 배열에 담아 return 하도록 solution 함수를 작성해주세요.\n",
    "\n",
    "## 제한 조건\n",
    "* array의 길이는 1 이상 100 이하입니다.\n",
    "* array의 각 원소는 1 이상 100 이하입니다.\n",
    "* commands의 길이는 1 이상 50 이하입니다.\n",
    "* commands의 각 원소는 길이가 3입니다.\n",
    "\n",
    "## 입출력 예\n",
    "|array                |commands                         |return   |\n",
    "|:-------------------:|:-------------------------------:|:-------:|\n",
    "|[1, 5, 2, 6, 3, 7, 4]|[[2, 5, 3], [4, 4, 1], [1, 7, 3]]|[5, 6, 3]|\n",
    "\n",
    "## 입출력 예 설명\n",
    "[1, 5, 2, 6, 3, 7, 4]를 2번째부터 5번째까지 자른 후 정렬합니다. [2, 3, 5, 6]의 세 번째 숫자는 5입니다.  \n",
    "[1, 5, 2, 6, 3, 7, 4]를 4번째부터 4번째까지 자른 후 정렬합니다. [6]의 첫 번째 숫자는 6입니다.  \n",
    "[1, 5, 2, 6, 3, 7, 4]를 1번째부터 7번째까지 자릅니다. [1, 2, 3, 4, 5, 6, 7]의 세 번째 숫자는 3입니다.  \n"
   ]
  },
  {
   "cell_type": "markdown",
   "id": "05046229",
   "metadata": {},
   "source": [
    "## **풀이**"
   ]
  },
  {
   "cell_type": "code",
   "execution_count": 7,
   "id": "39f9f949",
   "metadata": {},
   "outputs": [],
   "source": [
    "def solution(array, commands):\n",
    "    answer = []\n",
    "    for command in commands:\n",
    "        i, j, k = command[0], command[1], command[2]\n",
    "        cut_array = sorted(array[i-1:j])\n",
    "        answer.append(cut_array[k-1])\n",
    "    return answer"
   ]
  },
  {
   "cell_type": "markdown",
   "id": "4c871556",
   "metadata": {},
   "source": [
    "## 다른 사람의 풀이"
   ]
  },
  {
   "cell_type": "code",
   "execution_count": 8,
   "id": "aae85075",
   "metadata": {},
   "outputs": [],
   "source": [
    "def solution(array, commands):\n",
    "    return list(map(lambda x:sorted(array[x[0]-1:x[1]])[x[2]-1], commands))"
   ]
  }
 ],
 "metadata": {
  "kernelspec": {
   "display_name": "Python 3",
   "language": "python",
   "name": "python3"
  },
  "language_info": {
   "codemirror_mode": {
    "name": "ipython",
    "version": 3
   },
   "file_extension": ".py",
   "mimetype": "text/x-python",
   "name": "python",
   "nbconvert_exporter": "python",
   "pygments_lexer": "ipython3",
   "version": "3.8.8"
  }
 },
 "nbformat": 4,
 "nbformat_minor": 5
}
