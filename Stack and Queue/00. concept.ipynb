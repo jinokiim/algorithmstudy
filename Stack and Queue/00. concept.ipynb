{
 "cells": [
  {
   "cell_type": "markdown",
   "id": "c3f73b1e",
   "metadata": {},
   "source": [
    "### 스택, 큐, 딕셔너리\n",
    "\n",
    "## queues\n",
    "\n",
    "현실에서 큐 하면 가장 먼저 생각나는 예시는 식당앞에서는 줄서기와 같은 예이다. 식당에서 먼저 주문한사람이 음식을 받는 구조이다.  \n",
    "컴퓨터 공학에서의 큐도 기술적인 정의를 가지고 있다. FIFO(First-in, First-out), 즉 선입 선출의 특징을 가진 자료 구조이다.  \n",
    "큐에는 두 가지 기본 연산이 있다. enqueue 와 deaueue 이다.  \n",
    "enqueue 는 줄에 들어가서 서는 것이고, dequeue 는 줄을 빠져나오는 것이다.  \n",
    "배열과 연결 리스트를 생각해보면 이 구조를 큐의 개념을 구현하기 위한 블록으로 생각할 수 있다.  \n",
    "동적으로 크기가 바뀌는 배열이나 연결 리스트를 이용하여 상황을 구현할 수 있다.  "
   ]
  },
  {
   "cell_type": "markdown",
   "id": "95dc347a",
   "metadata": {},
   "source": [
    "### 큐의 구현방법\n",
    "\n",
    "직접 구현"
   ]
  },
  {
   "cell_type": "code",
   "execution_count": 35,
   "id": "db4ac81d",
   "metadata": {},
   "outputs": [],
   "source": [
    "class queue(list):\n",
    "    put = list.append\n",
    "    \n",
    "    def peek(self):\n",
    "        return self[0]\n",
    "    \n",
    "    def get(self):\n",
    "        return self.pop(0)"
   ]
  },
  {
   "cell_type": "markdown",
   "id": "abeba6af",
   "metadata": {},
   "source": [
    "* 큐 직접 구현 활용"
   ]
  },
  {
   "cell_type": "code",
   "execution_count": 36,
   "id": "e72b386d",
   "metadata": {},
   "outputs": [
    {
     "name": "stdout",
     "output_type": "stream",
     "text": [
      "[1, 5, 10]\n"
     ]
    }
   ],
   "source": [
    "q = queue()\n",
    "q.put(1)\n",
    "q.put(5)\n",
    "q.put(10)\n",
    "print(q)"
   ]
  },
  {
   "cell_type": "markdown",
   "id": "09a24e87",
   "metadata": {},
   "source": [
    "* get 으로 처음 요소 out"
   ]
  },
  {
   "cell_type": "code",
   "execution_count": 37,
   "id": "d05fbd94",
   "metadata": {},
   "outputs": [
    {
     "data": {
      "text/plain": [
       "1"
      ]
     },
     "execution_count": 37,
     "metadata": {},
     "output_type": "execute_result"
    }
   ],
   "source": [
    "q.get()"
   ]
  },
  {
   "cell_type": "code",
   "execution_count": 38,
   "id": "001e632f",
   "metadata": {},
   "outputs": [
    {
     "name": "stdout",
     "output_type": "stream",
     "text": [
      "[5, 10]\n"
     ]
    }
   ],
   "source": [
    "print(q)"
   ]
  },
  {
   "cell_type": "markdown",
   "id": "1d076b09",
   "metadata": {},
   "source": [
    "* peek 활용"
   ]
  },
  {
   "cell_type": "code",
   "execution_count": 39,
   "id": "ffac9c70",
   "metadata": {},
   "outputs": [
    {
     "data": {
      "text/plain": [
       "5"
      ]
     },
     "execution_count": 39,
     "metadata": {},
     "output_type": "execute_result"
    }
   ],
   "source": [
    "q.peek()"
   ]
  },
  {
   "cell_type": "code",
   "execution_count": 40,
   "id": "0b1314f1",
   "metadata": {},
   "outputs": [
    {
     "name": "stdout",
     "output_type": "stream",
     "text": [
      "[5, 10]\n"
     ]
    }
   ],
   "source": [
    "print(q)"
   ]
  },
  {
   "cell_type": "markdown",
   "id": "22620333",
   "metadata": {},
   "source": [
    "### 구현된 클래스 import"
   ]
  },
  {
   "cell_type": "code",
   "execution_count": 41,
   "id": "7525d162",
   "metadata": {},
   "outputs": [],
   "source": [
    "from queue import Queue"
   ]
  },
  {
   "cell_type": "code",
   "execution_count": 42,
   "id": "3e07a51f",
   "metadata": {},
   "outputs": [
    {
     "name": "stdout",
     "output_type": "stream",
     "text": [
      "[1, 5, 10]\n"
     ]
    }
   ],
   "source": [
    "q = queue()\n",
    "q.put(1)\n",
    "q.put(5)\n",
    "q.put(10)\n",
    "print(q)"
   ]
  },
  {
   "cell_type": "markdown",
   "id": "9dfc53cd",
   "metadata": {},
   "source": [
    "* get 함수 사용"
   ]
  },
  {
   "cell_type": "code",
   "execution_count": 43,
   "id": "6719c755",
   "metadata": {},
   "outputs": [
    {
     "data": {
      "text/plain": [
       "1"
      ]
     },
     "execution_count": 43,
     "metadata": {},
     "output_type": "execute_result"
    }
   ],
   "source": [
    "q.get()"
   ]
  },
  {
   "cell_type": "code",
   "execution_count": 44,
   "id": "c3a5a18b",
   "metadata": {},
   "outputs": [
    {
     "name": "stdout",
     "output_type": "stream",
     "text": [
      "[5, 10]\n"
     ]
    }
   ],
   "source": [
    "print(q)"
   ]
  },
  {
   "cell_type": "markdown",
   "id": "da17f21d",
   "metadata": {},
   "source": [
    "* peek 함수 사용"
   ]
  },
  {
   "cell_type": "code",
   "execution_count": 45,
   "id": "f3606c70",
   "metadata": {},
   "outputs": [
    {
     "data": {
      "text/plain": [
       "5"
      ]
     },
     "execution_count": 45,
     "metadata": {},
     "output_type": "execute_result"
    }
   ],
   "source": [
    "q.peek()"
   ]
  },
  {
   "cell_type": "code",
   "execution_count": 46,
   "id": "a6a430f8",
   "metadata": {},
   "outputs": [
    {
     "name": "stdout",
     "output_type": "stream",
     "text": [
      "[5, 10]\n"
     ]
    }
   ],
   "source": [
    "print(q)"
   ]
  },
  {
   "cell_type": "markdown",
   "id": "023b8b7b",
   "metadata": {},
   "source": [
    "### list 를 큐로 활용"
   ]
  },
  {
   "cell_type": "code",
   "execution_count": 47,
   "id": "2dcd1457",
   "metadata": {},
   "outputs": [
    {
     "name": "stdout",
     "output_type": "stream",
     "text": [
      "[1, 5, 10]\n"
     ]
    }
   ],
   "source": [
    "q = []\n",
    "q.append(1)\n",
    "q.append(5)\n",
    "q.append(10)\n",
    "print(q)"
   ]
  },
  {
   "cell_type": "markdown",
   "id": "dedf7321",
   "metadata": {},
   "source": [
    "* 제거할땐 pop함수 활용"
   ]
  },
  {
   "cell_type": "code",
   "execution_count": 49,
   "id": "645dcea4",
   "metadata": {},
   "outputs": [
    {
     "data": {
      "text/plain": [
       "1"
      ]
     },
     "execution_count": 49,
     "metadata": {},
     "output_type": "execute_result"
    }
   ],
   "source": [
    "q.pop(0)"
   ]
  },
  {
   "cell_type": "code",
   "execution_count": 50,
   "id": "f9b02792",
   "metadata": {},
   "outputs": [
    {
     "name": "stdout",
     "output_type": "stream",
     "text": [
      "[5, 10]\n"
     ]
    }
   ],
   "source": [
    "print(q)"
   ]
  },
  {
   "cell_type": "markdown",
   "id": "ad626b26",
   "metadata": {},
   "source": [
    "* peek 은 index 이용"
   ]
  },
  {
   "cell_type": "code",
   "execution_count": 51,
   "id": "b8461263",
   "metadata": {},
   "outputs": [
    {
     "data": {
      "text/plain": [
       "5"
      ]
     },
     "execution_count": 51,
     "metadata": {},
     "output_type": "execute_result"
    }
   ],
   "source": [
    "q[0]"
   ]
  },
  {
   "cell_type": "code",
   "execution_count": 52,
   "id": "9a4d13a9",
   "metadata": {},
   "outputs": [
    {
     "name": "stdout",
     "output_type": "stream",
     "text": [
      "[5, 10]\n"
     ]
    }
   ],
   "source": [
    "print(q)"
   ]
  },
  {
   "cell_type": "markdown",
   "id": "0eda4937",
   "metadata": {},
   "source": [
    "## stacks\n",
    "\n",
    "위의 큐와는 반대의 자료 구조이다. 이런 구조를 스택이라고 부른다. 현실에서의 스택도 식당에서 찾아볼 수 있다.  \n",
    "직원이 쟁반을 쌓아두면 가장 아래에있는 쟁반을 가져가는 것이 아닌, 가장 마지막에 올려둔 제일 위쪽의 쟁반부터 사용한다.  \n",
    "LIFO(Last-in, First-out) 후입선출 방식이다. push pop 이라고 부른다.  \n",
    "스택에 어떤 요소를 밀어넣는 push 와 가장 위쪽의 요소를 뺀다는 의미로 pop을 사용한다.\n",
    "\n",
    "### 스택의 구현방법\n",
    "\n",
    "직접 구현"
   ]
  },
  {
   "cell_type": "markdown",
   "id": "021fc909",
   "metadata": {},
   "source": [
    "* push 구현"
   ]
  },
  {
   "cell_type": "code",
   "execution_count": 4,
   "id": "73bf4e61",
   "metadata": {},
   "outputs": [],
   "source": [
    "class stack(list):\n",
    "    push = list.append"
   ]
  },
  {
   "cell_type": "markdown",
   "id": "b9c15adf",
   "metadata": {},
   "source": [
    "* peek 구현"
   ]
  },
  {
   "cell_type": "code",
   "execution_count": 11,
   "id": "4e8796d0",
   "metadata": {},
   "outputs": [],
   "source": [
    "def peek(self):\n",
    "    return self[-1]"
   ]
  },
  {
   "cell_type": "markdown",
   "id": "bfe85111",
   "metadata": {},
   "source": [
    "### 스택 구현 활용"
   ]
  },
  {
   "cell_type": "code",
   "execution_count": 6,
   "id": "721d3821",
   "metadata": {},
   "outputs": [
    {
     "name": "stdout",
     "output_type": "stream",
     "text": [
      "[1, 5, 10]\n"
     ]
    }
   ],
   "source": [
    "s = stack()\n",
    "\n",
    "s.push(1)\n",
    "s.push(5)\n",
    "s.push(10)\n",
    "print(s)"
   ]
  },
  {
   "cell_type": "code",
   "execution_count": 7,
   "id": "1e466be4",
   "metadata": {},
   "outputs": [
    {
     "data": {
      "text/plain": [
       "10"
      ]
     },
     "execution_count": 7,
     "metadata": {},
     "output_type": "execute_result"
    }
   ],
   "source": [
    "s.pop()"
   ]
  },
  {
   "cell_type": "code",
   "execution_count": 8,
   "id": "2f97824f",
   "metadata": {},
   "outputs": [
    {
     "name": "stdout",
     "output_type": "stream",
     "text": [
      "[1, 5]\n"
     ]
    }
   ],
   "source": [
    "print(s)"
   ]
  },
  {
   "cell_type": "code",
   "execution_count": 14,
   "id": "8f2005ff",
   "metadata": {},
   "outputs": [
    {
     "data": {
      "text/plain": [
       "5"
      ]
     },
     "execution_count": 14,
     "metadata": {},
     "output_type": "execute_result"
    }
   ],
   "source": [
    "peek(s)"
   ]
  },
  {
   "cell_type": "markdown",
   "id": "81ae9bd9",
   "metadata": {},
   "source": [
    "* 스택을 List 를 이용하여 활용"
   ]
  },
  {
   "cell_type": "code",
   "execution_count": 15,
   "id": "c6f848ca",
   "metadata": {},
   "outputs": [],
   "source": [
    "s = []"
   ]
  },
  {
   "cell_type": "code",
   "execution_count": 16,
   "id": "3218cc35",
   "metadata": {},
   "outputs": [
    {
     "name": "stdout",
     "output_type": "stream",
     "text": [
      "[1, 5, 10]\n"
     ]
    }
   ],
   "source": [
    "s.append(1)\n",
    "s.append(5)\n",
    "s.append(10)\n",
    "print(s)"
   ]
  },
  {
   "cell_type": "code",
   "execution_count": 17,
   "id": "72313bef",
   "metadata": {},
   "outputs": [
    {
     "data": {
      "text/plain": [
       "10"
      ]
     },
     "execution_count": 17,
     "metadata": {},
     "output_type": "execute_result"
    }
   ],
   "source": [
    "s.pop()"
   ]
  },
  {
   "cell_type": "code",
   "execution_count": 20,
   "id": "fcb1bc38",
   "metadata": {},
   "outputs": [
    {
     "name": "stdout",
     "output_type": "stream",
     "text": [
      "[1, 5]\n"
     ]
    }
   ],
   "source": [
    "print(s)"
   ]
  },
  {
   "cell_type": "markdown",
   "id": "e4f23b09",
   "metadata": {},
   "source": [
    "* peek"
   ]
  },
  {
   "cell_type": "code",
   "execution_count": 19,
   "id": "f45619ba",
   "metadata": {},
   "outputs": [
    {
     "data": {
      "text/plain": [
       "5"
      ]
     },
     "execution_count": 19,
     "metadata": {},
     "output_type": "execute_result"
    }
   ],
   "source": [
    "s[-1]"
   ]
  },
  {
   "cell_type": "code",
   "execution_count": 21,
   "id": "21f77ea7",
   "metadata": {},
   "outputs": [
    {
     "name": "stdout",
     "output_type": "stream",
     "text": [
      "[1, 5]\n"
     ]
    }
   ],
   "source": [
    "print(s)"
   ]
  },
  {
   "cell_type": "markdown",
   "id": "0736a171",
   "metadata": {},
   "source": [
    "## dictionary\n",
    "\n",
    "컴퓨터 공학에서는 키(key)와 값(value)의 쌍으로 이루어져 있는 자료구조이다.\n",
    "키에 해당하는 값을 저장하고 읽어오는 것이다. "
   ]
  }
 ],
 "metadata": {
  "kernelspec": {
   "display_name": "Python 3.9.6 64-bit ('playdata': conda)",
   "language": "python",
   "name": "python396jvsc74a57bd084c32ba9f13543de06db758d214554c655fa453ae6ce06eb19158602db9f1fd7"
  },
  "language_info": {
   "codemirror_mode": {
    "name": "ipython",
    "version": 3
   },
   "file_extension": ".py",
   "mimetype": "text/x-python",
   "name": "python",
   "nbconvert_exporter": "python",
   "pygments_lexer": "ipython3",
   "version": "3.9.6"
  }
 },
 "nbformat": 4,
 "nbformat_minor": 5
}
